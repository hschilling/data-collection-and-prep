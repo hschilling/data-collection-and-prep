{
 "cells": [
  {
   "cell_type": "code",
   "execution_count": 111,
   "metadata": {},
   "outputs": [],
   "source": [
    "import pandas as pd\n",
    "df = pd.read_csv('Papers for Labeling-Grid view.csv')\n",
    "columns = df.columns"
   ]
  },
  {
   "cell_type": "code",
   "execution_count": 112,
   "metadata": {},
   "outputs": [
    {
     "data": {
      "text/html": [
       "<div>\n",
       "<style scoped>\n",
       "    .dataframe tbody tr th:only-of-type {\n",
       "        vertical-align: middle;\n",
       "    }\n",
       "\n",
       "    .dataframe tbody tr th {\n",
       "        vertical-align: top;\n",
       "    }\n",
       "\n",
       "    .dataframe thead th {\n",
       "        text-align: right;\n",
       "    }\n",
       "</style>\n",
       "<table border=\"1\" class=\"dataframe\">\n",
       "  <thead>\n",
       "    <tr style=\"text-align: right;\">\n",
       "      <th></th>\n",
       "      <th>DOI</th>\n",
       "      <th>Abstract</th>\n",
       "      <th>Journal</th>\n",
       "      <th>Journal URL</th>\n",
       "      <th>PubMed URL</th>\n",
       "      <th>Open access?</th>\n",
       "      <th>Press release</th>\n",
       "    </tr>\n",
       "  </thead>\n",
       "  <tbody>\n",
       "    <tr>\n",
       "      <th>0</th>\n",
       "      <td>10.1140/epjst/e2020-900273-x</td>\n",
       "      <td>Cold-weather penguins continually dive in and ...</td>\n",
       "      <td>The European Physical Journal Special Topics</td>\n",
       "      <td>https://link.springer.com/article/10.1140/epjs...</td>\n",
       "      <td>NaN</td>\n",
       "      <td>NaN</td>\n",
       "      <td>https://www.sciencedaily.com/releases/2015/11/...</td>\n",
       "    </tr>\n",
       "    <tr>\n",
       "      <th>1</th>\n",
       "      <td>10.1016/j.jpowsour.2019.01.027</td>\n",
       "      <td>The discovery of the ability of microorganisms...</td>\n",
       "      <td>Journal of Power Sources</td>\n",
       "      <td>https://www.sciencedirect.com/science/article/...</td>\n",
       "      <td>NaN</td>\n",
       "      <td>NaN</td>\n",
       "      <td>https://www.sciencedaily.com/releases/2019/03/...</td>\n",
       "    </tr>\n",
       "    <tr>\n",
       "      <th>2</th>\n",
       "      <td>10.1111/jav.01972</td>\n",
       "      <td>Flight activity recorders have recently confir...</td>\n",
       "      <td>Journal of Avian Biology</td>\n",
       "      <td>https://onlinelibrary.wiley.com/doi/abs/10.111...</td>\n",
       "      <td>NaN</td>\n",
       "      <td>NaN</td>\n",
       "      <td>https://www.sciencedaily.com/releases/2019/03/...</td>\n",
       "    </tr>\n",
       "    <tr>\n",
       "      <th>3</th>\n",
       "      <td>10.1137/19M1262322</td>\n",
       "      <td>We consider the inverse problem of localizing ...</td>\n",
       "      <td>Society for Industrial and Applied Mathematics</td>\n",
       "      <td>https://epubs.siam.org/doi/10.1137/19M1262322</td>\n",
       "      <td>NaN</td>\n",
       "      <td>NaN</td>\n",
       "      <td>https://www.sciencedaily.com/releases/2019/12/...</td>\n",
       "    </tr>\n",
       "    <tr>\n",
       "      <th>4</th>\n",
       "      <td>10.5286/ISIS.E.92924017</td>\n",
       "      <td>Cyphochilus beetle scales are amongst the brig...</td>\n",
       "      <td>Science</td>\n",
       "      <td>https://www.nature.com/articles/s42004-019-020...</td>\n",
       "      <td>NaN</td>\n",
       "      <td>NaN</td>\n",
       "      <td>NaN</td>\n",
       "    </tr>\n",
       "    <tr>\n",
       "      <th>...</th>\n",
       "      <td>...</td>\n",
       "      <td>...</td>\n",
       "      <td>...</td>\n",
       "      <td>...</td>\n",
       "      <td>...</td>\n",
       "      <td>...</td>\n",
       "      <td>...</td>\n",
       "    </tr>\n",
       "    <tr>\n",
       "      <th>338</th>\n",
       "      <td>NaN</td>\n",
       "      <td>NaN</td>\n",
       "      <td>NaN</td>\n",
       "      <td>NaN</td>\n",
       "      <td>NaN</td>\n",
       "      <td>NaN</td>\n",
       "      <td>https://www.sciencedaily.com/releases/2020/10/...</td>\n",
       "    </tr>\n",
       "    <tr>\n",
       "      <th>339</th>\n",
       "      <td>NaN</td>\n",
       "      <td>NaN</td>\n",
       "      <td>NaN</td>\n",
       "      <td>NaN</td>\n",
       "      <td>NaN</td>\n",
       "      <td>NaN</td>\n",
       "      <td>https://iopscience.iop.org/article/10.1088/174...</td>\n",
       "    </tr>\n",
       "    <tr>\n",
       "      <th>340</th>\n",
       "      <td>NaN</td>\n",
       "      <td>NaN</td>\n",
       "      <td>NaN</td>\n",
       "      <td>NaN</td>\n",
       "      <td>NaN</td>\n",
       "      <td>NaN</td>\n",
       "      <td>https://iopscience.iop.org/article/10.1088/174...</td>\n",
       "    </tr>\n",
       "    <tr>\n",
       "      <th>341</th>\n",
       "      <td>NaN</td>\n",
       "      <td>NaN</td>\n",
       "      <td>NaN</td>\n",
       "      <td>NaN</td>\n",
       "      <td>NaN</td>\n",
       "      <td>NaN</td>\n",
       "      <td>https://royalsocietypublishing.org/doi/10.1098...</td>\n",
       "    </tr>\n",
       "    <tr>\n",
       "      <th>342</th>\n",
       "      <td>NaN</td>\n",
       "      <td>NaN</td>\n",
       "      <td>NaN</td>\n",
       "      <td>NaN</td>\n",
       "      <td>NaN</td>\n",
       "      <td>NaN</td>\n",
       "      <td>https://www.sciencedaily.com/releases/2020/10/...</td>\n",
       "    </tr>\n",
       "  </tbody>\n",
       "</table>\n",
       "<p>343 rows × 7 columns</p>\n",
       "</div>"
      ],
      "text/plain": [
       "                                DOI  \\\n",
       "0      10.1140/epjst/e2020-900273-x   \n",
       "1    10.1016/j.jpowsour.2019.01.027   \n",
       "2                 10.1111/jav.01972   \n",
       "3                10.1137/19M1262322   \n",
       "4           10.5286/ISIS.E.92924017   \n",
       "..                              ...   \n",
       "338                             NaN   \n",
       "339                             NaN   \n",
       "340                             NaN   \n",
       "341                             NaN   \n",
       "342                             NaN   \n",
       "\n",
       "                                              Abstract  \\\n",
       "0    Cold-weather penguins continually dive in and ...   \n",
       "1    The discovery of the ability of microorganisms...   \n",
       "2    Flight activity recorders have recently confir...   \n",
       "3    We consider the inverse problem of localizing ...   \n",
       "4    Cyphochilus beetle scales are amongst the brig...   \n",
       "..                                                 ...   \n",
       "338                                                NaN   \n",
       "339                                                NaN   \n",
       "340                                                NaN   \n",
       "341                                                NaN   \n",
       "342                                                NaN   \n",
       "\n",
       "                                            Journal  \\\n",
       "0      The European Physical Journal Special Topics   \n",
       "1                          Journal of Power Sources   \n",
       "2                          Journal of Avian Biology   \n",
       "3    Society for Industrial and Applied Mathematics   \n",
       "4                                           Science   \n",
       "..                                              ...   \n",
       "338                                             NaN   \n",
       "339                                             NaN   \n",
       "340                                             NaN   \n",
       "341                                             NaN   \n",
       "342                                             NaN   \n",
       "\n",
       "                                           Journal URL PubMed URL  \\\n",
       "0    https://link.springer.com/article/10.1140/epjs...        NaN   \n",
       "1    https://www.sciencedirect.com/science/article/...        NaN   \n",
       "2    https://onlinelibrary.wiley.com/doi/abs/10.111...        NaN   \n",
       "3        https://epubs.siam.org/doi/10.1137/19M1262322        NaN   \n",
       "4    https://www.nature.com/articles/s42004-019-020...        NaN   \n",
       "..                                                 ...        ...   \n",
       "338                                                NaN        NaN   \n",
       "339                                                NaN        NaN   \n",
       "340                                                NaN        NaN   \n",
       "341                                                NaN        NaN   \n",
       "342                                                NaN        NaN   \n",
       "\n",
       "    Open access?                                      Press release  \n",
       "0            NaN  https://www.sciencedaily.com/releases/2015/11/...  \n",
       "1            NaN  https://www.sciencedaily.com/releases/2019/03/...  \n",
       "2            NaN  https://www.sciencedaily.com/releases/2019/03/...  \n",
       "3            NaN  https://www.sciencedaily.com/releases/2019/12/...  \n",
       "4            NaN                                                NaN  \n",
       "..           ...                                                ...  \n",
       "338          NaN  https://www.sciencedaily.com/releases/2020/10/...  \n",
       "339          NaN  https://iopscience.iop.org/article/10.1088/174...  \n",
       "340          NaN  https://iopscience.iop.org/article/10.1088/174...  \n",
       "341          NaN  https://royalsocietypublishing.org/doi/10.1098...  \n",
       "342          NaN  https://www.sciencedaily.com/releases/2020/10/...  \n",
       "\n",
       "[343 rows x 7 columns]"
      ]
     },
     "execution_count": 112,
     "metadata": {},
     "output_type": "execute_result"
    }
   ],
   "source": [
    "df"
   ]
  },
  {
   "cell_type": "code",
   "execution_count": 106,
   "metadata": {},
   "outputs": [
    {
     "data": {
      "text/plain": [
       "'https://www.tandfonline.com/doi/abs/10.1080/00033796800200111 https://www.nature.com/articles/ncomms7368'"
      ]
     },
     "execution_count": 106,
     "metadata": {},
     "output_type": "execute_result"
    }
   ],
   "source": [
    "#df = df[df['Journal URL'].notna()]\n",
    "df.iloc[38]['Journal URL']"
   ]
  },
  {
   "cell_type": "code",
   "execution_count": 116,
   "metadata": {},
   "outputs": [],
   "source": [
    "def clean_airtable_v2(df):\n",
    "    rows_lst = []\n",
    "    for index, row in df.iterrows():\n",
    "        if pd.isnull(row['Journal URL']):\n",
    "            rows_lst.append(list(row))\n",
    "            continue\n",
    "        rows_lst.append(list(row))\n",
    "        #Retrieving list of URLS, and only operating if it has multiple\n",
    "        urls = row['Journal URL'].split(' ')\n",
    "    \n",
    "        if len(urls) >= 2:\n",
    "            rows_lst.remove(list(row))\n",
    "            #If it has multiple URLS, drop that row for now\n",
    "            #df = df.drop(index=index)\n",
    "            #Create new row for each URL with same data in all other columns\n",
    "            for url in urls:\n",
    "                if len(url) > 2:\n",
    "                    data = [row['DOI'], row['Abstract'], row['Journal'], url,\n",
    "                    row['PubMed URL'], row['Open access?'], row['Press release']\n",
    "                    ]\n",
    "                    #Append new rows to dataframe\n",
    "                    rows_lst.append(data)\n",
    "    return pd.DataFrame(rows_lst, columns = df.columns).drop_duplicates()\n",
    "clean_df = clean_airtable_v2(df)"
   ]
  },
  {
   "cell_type": "code",
   "execution_count": 123,
   "metadata": {},
   "outputs": [],
   "source": [
    "clean_df.to_csv('cleand_papers_for_labeling.csv')"
   ]
  },
  {
   "cell_type": "code",
   "execution_count": 117,
   "metadata": {},
   "outputs": [
    {
     "name": "stderr",
     "output_type": "stream",
     "text": [
      "/anaconda3/lib/python3.7/site-packages/requests/__init__.py:91: RequestsDependencyWarning: urllib3 (1.26.2) or chardet (3.0.4) doesn't match a supported version!\n",
      "  RequestsDependencyWarning)\n"
     ]
    }
   ],
   "source": [
    "import requests\n",
    "from bs4 import BeautifulSoup\n",
    "\n",
    "def press_release_link(row):\n",
    "    url = row['Journal URL']\n",
    "    press_release = row['Press release']\n",
    "    if pd.isnull(url) and not pd.isnull(press_release):\n",
    "        if 'sciencedaily' in press_release:\n",
    "            r = requests.get(press_release)\n",
    "            soup = BeautifulSoup(r.text)\n",
    "            \n",
    "        \n",
    "        "
   ]
  },
  {
   "cell_type": "code",
   "execution_count": 121,
   "metadata": {},
   "outputs": [
    {
     "data": {
      "text/plain": [
       "<html><body><p>403: Forbidden</p></body></html>"
      ]
     },
     "execution_count": 121,
     "metadata": {},
     "output_type": "execute_result"
    }
   ],
   "source": [
    "r = requests.get('https://www.sciencedaily.com/releases/2020/02/200226131323.htm')\n",
    "soup = BeautifulSoup(r.text)\n",
    "soup.find('div', id='journal_references')\n",
    "soup"
   ]
  },
  {
   "cell_type": "code",
   "execution_count": null,
   "metadata": {},
   "outputs": [],
   "source": []
  },
  {
   "cell_type": "code",
   "execution_count": null,
   "metadata": {},
   "outputs": [],
   "source": []
  },
  {
   "cell_type": "code",
   "execution_count": 87,
   "metadata": {},
   "outputs": [],
   "source": [
    "def clean_multiple_urls(df):\n",
    "    rows_lst = []\n",
    "    for index, row in df.iterrows():\n",
    "        rows_lst.append(list(row))\n",
    "        #Retrieving list of URLS, and only operating if it has multiple\n",
    "        urls = row['Primary lit site'].split('\\n')\n",
    "    \n",
    "        if len(urls) >= 2:\n",
    "            rows_lst.remove(list(row))\n",
    "            #If it has multiple URLS, drop that row for now\n",
    "            #df = df.drop(index=index)\n",
    "            #Create new row for each URL with same data in all other columns\n",
    "            for url in urls:\n",
    "                if len(url) > 2:\n",
    "                    data = [row['DOI'], row['Paper title'], row['Abstract'], row['Journal'], url,\n",
    "                    row['Functions Level I'], row['Functions Level II'], row['Functions Level III- NEW'],\n",
    "                    row['Functions Level III-OLD'], row['Link to press release']\n",
    "                    ]\n",
    "                    #Append new rows to dataframe\n",
    "                    rows_lst.append(data)\n",
    "    return pd.DataFrame(rows_lst).drop_duplicates()\n",
    "\n",
    "df = clean_multiple_urls(df)"
   ]
  },
  {
   "cell_type": "code",
   "execution_count": 88,
   "metadata": {},
   "outputs": [],
   "source": [
    "df.columns = columns"
   ]
  },
  {
   "cell_type": "code",
   "execution_count": 90,
   "metadata": {},
   "outputs": [
    {
     "data": {
      "text/plain": [
       "1375"
      ]
     },
     "execution_count": 90,
     "metadata": {},
     "output_type": "execute_result"
    }
   ],
   "source": [
    "len(df)"
   ]
  },
  {
   "cell_type": "code",
   "execution_count": 91,
   "metadata": {},
   "outputs": [],
   "source": [
    "for url in df['Primary lit site'].values:\n",
    "    if len(url.split(' ')) > 2:\n",
    "        print(u)"
   ]
  },
  {
   "cell_type": "code",
   "execution_count": 92,
   "metadata": {},
   "outputs": [
    {
     "data": {
      "text/plain": [
       "1375"
      ]
     },
     "execution_count": 92,
     "metadata": {},
     "output_type": "execute_result"
    }
   ],
   "source": [
    "df = df[df['Primary lit site'].notna()]\n",
    "len(df)"
   ]
  },
  {
   "cell_type": "code",
   "execution_count": 93,
   "metadata": {},
   "outputs": [],
   "source": [
    "df = df.reset_index()"
   ]
  },
  {
   "cell_type": "code",
   "execution_count": 94,
   "metadata": {},
   "outputs": [],
   "source": [
    "df.to_csv('cleaned_airtable.csv')"
   ]
  },
  {
   "cell_type": "code",
   "execution_count": null,
   "metadata": {},
   "outputs": [],
   "source": []
  }
 ],
 "metadata": {
  "kernelspec": {
   "display_name": "Python 3",
   "language": "python",
   "name": "python3"
  },
  "language_info": {
   "codemirror_mode": {
    "name": "ipython",
    "version": 3
   },
   "file_extension": ".py",
   "mimetype": "text/x-python",
   "name": "python",
   "nbconvert_exporter": "python",
   "pygments_lexer": "ipython3",
   "version": "3.7.0"
  }
 },
 "nbformat": 4,
 "nbformat_minor": 2
}
